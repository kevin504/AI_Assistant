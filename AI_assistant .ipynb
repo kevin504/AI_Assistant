{
 "cells": [
  {
   "cell_type": "code",
   "execution_count": 1,
   "id": "e0e01344",
   "metadata": {},
   "outputs": [
    {
     "name": "stdout",
     "output_type": "stream",
     "text": [
      "Collecting speechrecognitionNote: you may need to restart the kernel to use updated packages.\n",
      "\n",
      "  Downloading SpeechRecognition-3.10.4-py2.py3-none-any.whl (32.8 MB)\n",
      "     ---------------------------------------- 0.0/32.8 MB ? eta -:--:--\n",
      "      --------------------------------------- 0.4/32.8 MB 8.9 MB/s eta 0:00:04\n",
      "     - -------------------------------------- 1.4/32.8 MB 11.1 MB/s eta 0:00:03\n",
      "     ---- ----------------------------------- 3.5/32.8 MB 15.9 MB/s eta 0:00:02\n",
      "     ---- ----------------------------------- 4.0/32.8 MB 14.2 MB/s eta 0:00:03\n",
      "     -------- ------------------------------- 6.6/32.8 MB 18.4 MB/s eta 0:00:02\n",
      "     --------- ------------------------------ 7.5/32.8 MB 17.7 MB/s eta 0:00:02\n",
      "     ----------- --------------------------- 10.0/32.8 MB 20.6 MB/s eta 0:00:02\n",
      "     ------------ -------------------------- 10.7/32.8 MB 19.8 MB/s eta 0:00:02\n",
      "     ------------- ------------------------- 11.1/32.8 MB 17.7 MB/s eta 0:00:02\n",
      "     -------------- ------------------------ 12.3/32.8 MB 17.7 MB/s eta 0:00:02\n",
      "     ---------------- ---------------------- 13.5/32.8 MB 16.4 MB/s eta 0:00:02\n",
      "     ----------------- --------------------- 14.9/32.8 MB 18.2 MB/s eta 0:00:01\n",
      "     ------------------- ------------------- 16.4/32.8 MB 16.8 MB/s eta 0:00:01\n",
      "     -------------------- ------------------ 17.2/32.8 MB 16.4 MB/s eta 0:00:01\n",
      "     ---------------------- ---------------- 18.7/32.8 MB 15.6 MB/s eta 0:00:01\n",
      "     ---------------------- ---------------- 19.0/32.8 MB 14.5 MB/s eta 0:00:01\n",
      "     ------------------------ -------------- 20.6/32.8 MB 14.9 MB/s eta 0:00:01\n",
      "     ------------------------- ------------- 21.7/32.8 MB 16.4 MB/s eta 0:00:01\n",
      "     --------------------------- ----------- 23.1/32.8 MB 17.3 MB/s eta 0:00:01\n",
      "     ----------------------------- --------- 24.7/32.8 MB 16.4 MB/s eta 0:00:01\n",
      "     ------------------------------ -------- 25.7/32.8 MB 15.6 MB/s eta 0:00:01\n",
      "     ------------------------------- ------- 26.9/32.8 MB 16.0 MB/s eta 0:00:01\n",
      "     --------------------------------- ----- 28.4/32.8 MB 16.8 MB/s eta 0:00:01\n",
      "     ----------------------------------- --- 30.1/32.8 MB 19.2 MB/s eta 0:00:01\n",
      "     ------------------------------------- - 31.6/32.8 MB 19.2 MB/s eta 0:00:01\n",
      "     --------------------------------------  32.8/32.8 MB 19.8 MB/s eta 0:00:01\n",
      "     --------------------------------------  32.8/32.8 MB 19.8 MB/s eta 0:00:01\n",
      "     --------------------------------------  32.8/32.8 MB 19.8 MB/s eta 0:00:01\n",
      "     --------------------------------------  32.8/32.8 MB 19.8 MB/s eta 0:00:01\n",
      "     --------------------------------------  32.8/32.8 MB 19.8 MB/s eta 0:00:01\n",
      "     --------------------------------------- 32.8/32.8 MB 10.7 MB/s eta 0:00:00\n",
      "Collecting pyttsx3\n",
      "  Downloading pyttsx3-2.90-py3-none-any.whl (39 kB)\n",
      "Requirement already satisfied: transformers in c:\\users\\kevin\\anaconda3\\lib\\site-packages (4.24.0)\n",
      "Requirement already satisfied: requests in c:\\users\\kevin\\anaconda3\\lib\\site-packages (2.28.1)\n",
      "Requirement already satisfied: typing-extensions in c:\\users\\kevin\\anaconda3\\lib\\site-packages (from speechrecognition) (4.4.0)\n",
      "Collecting comtypes\n",
      "  Downloading comtypes-1.4.2-py3-none-any.whl (201 kB)\n",
      "     ---------------------------------------- 0.0/201.2 kB ? eta -:--:--\n",
      "     ------------------------------------- 201.2/201.2 kB 11.9 MB/s eta 0:00:00\n",
      "Requirement already satisfied: pywin32 in c:\\users\\kevin\\anaconda3\\lib\\site-packages (from pyttsx3) (305.1)\n",
      "Collecting pypiwin32\n",
      "  Downloading pypiwin32-223-py3-none-any.whl (1.7 kB)\n",
      "Requirement already satisfied: packaging>=20.0 in c:\\users\\kevin\\appdata\\roaming\\python\\python39\\site-packages (from transformers) (21.3)\n",
      "Requirement already satisfied: tqdm>=4.27 in c:\\users\\kevin\\anaconda3\\lib\\site-packages (from transformers) (4.65.0)\n",
      "Requirement already satisfied: numpy>=1.17 in c:\\users\\kevin\\appdata\\roaming\\python\\python39\\site-packages (from transformers) (1.22.3)\n",
      "Requirement already satisfied: regex!=2019.12.17 in c:\\users\\kevin\\anaconda3\\lib\\site-packages (from transformers) (2022.7.9)\n",
      "Requirement already satisfied: filelock in c:\\users\\kevin\\anaconda3\\lib\\site-packages (from transformers) (3.9.0)\n",
      "Requirement already satisfied: pyyaml>=5.1 in c:\\users\\kevin\\anaconda3\\lib\\site-packages (from transformers) (6.0)\n",
      "Requirement already satisfied: tokenizers!=0.11.3,<0.14,>=0.11.1 in c:\\users\\kevin\\anaconda3\\lib\\site-packages (from transformers) (0.11.4)\n",
      "Requirement already satisfied: huggingface-hub<1.0,>=0.10.0 in c:\\users\\kevin\\anaconda3\\lib\\site-packages (from transformers) (0.10.1)\n",
      "Requirement already satisfied: certifi>=2017.4.17 in c:\\users\\kevin\\anaconda3\\lib\\site-packages (from requests) (2024.2.2)\n",
      "Requirement already satisfied: charset-normalizer<3,>=2 in c:\\users\\kevin\\anaconda3\\lib\\site-packages (from requests) (2.0.4)\n",
      "Requirement already satisfied: urllib3<1.27,>=1.21.1 in c:\\users\\kevin\\anaconda3\\lib\\site-packages (from requests) (1.26.15)\n",
      "Requirement already satisfied: idna<4,>=2.5 in c:\\users\\kevin\\anaconda3\\lib\\site-packages (from requests) (3.4)\n",
      "Requirement already satisfied: pyparsing!=3.0.5,>=2.0.2 in c:\\users\\kevin\\appdata\\roaming\\python\\python39\\site-packages (from packaging>=20.0->transformers) (3.0.8)\n",
      "Requirement already satisfied: colorama in c:\\users\\kevin\\anaconda3\\lib\\site-packages (from tqdm>=4.27->transformers) (0.4.6)\n",
      "Installing collected packages: comtypes, pypiwin32, speechrecognition, pyttsx3\n",
      "Successfully installed comtypes-1.4.2 pypiwin32-223 pyttsx3-2.90 speechrecognition-3.10.4\n"
     ]
    },
    {
     "name": "stderr",
     "output_type": "stream",
     "text": [
      "WARNING: Ignoring invalid distribution -illow (c:\\users\\kevin\\appdata\\roaming\\python\\python39\\site-packages)\n",
      "WARNING: Ignoring invalid distribution -atplotlib (c:\\users\\kevin\\anaconda3\\lib\\site-packages)\n",
      "WARNING: Ignoring invalid distribution -illow (c:\\users\\kevin\\appdata\\roaming\\python\\python39\\site-packages)\n",
      "WARNING: Ignoring invalid distribution -atplotlib (c:\\users\\kevin\\anaconda3\\lib\\site-packages)\n",
      "WARNING: Ignoring invalid distribution -illow (c:\\users\\kevin\\appdata\\roaming\\python\\python39\\site-packages)\n",
      "WARNING: Ignoring invalid distribution -atplotlib (c:\\users\\kevin\\anaconda3\\lib\\site-packages)\n",
      "WARNING: Ignoring invalid distribution -atplotlib (c:\\users\\kevin\\anaconda3\\lib\\site-packages)\n",
      "WARNING: Ignoring invalid distribution -atplotlib (c:\\users\\kevin\\anaconda3\\lib\\site-packages)\n",
      "WARNING: Ignoring invalid distribution -atplotlib (c:\\users\\kevin\\anaconda3\\lib\\site-packages)\n",
      "WARNING: Ignoring invalid distribution -atplotlib (c:\\users\\kevin\\anaconda3\\lib\\site-packages)\n",
      "WARNING: Ignoring invalid distribution -illow (c:\\users\\kevin\\appdata\\roaming\\python\\python39\\site-packages)\n",
      "WARNING: Ignoring invalid distribution -atplotlib (c:\\users\\kevin\\anaconda3\\lib\\site-packages)\n",
      "WARNING: Ignoring invalid distribution -illow (c:\\users\\kevin\\appdata\\roaming\\python\\python39\\site-packages)\n",
      "WARNING: Ignoring invalid distribution -atplotlib (c:\\users\\kevin\\anaconda3\\lib\\site-packages)\n",
      "WARNING: Ignoring invalid distribution -illow (c:\\users\\kevin\\appdata\\roaming\\python\\python39\\site-packages)\n",
      "WARNING: Ignoring invalid distribution -atplotlib (c:\\users\\kevin\\anaconda3\\lib\\site-packages)\n"
     ]
    }
   ],
   "source": [
    "pip install speechrecognition pyttsx3 transformers requests"
   ]
  },
  {
   "cell_type": "code",
   "execution_count": null,
   "id": "9a425b70",
   "metadata": {},
   "outputs": [
    {
     "name": "stderr",
     "output_type": "stream",
     "text": [
      "No model was supplied, defaulted to distilbert-base-cased-distilled-squad and revision 626af31 (https://huggingface.co/distilbert-base-cased-distilled-squad).\n",
      "Using a pipeline without specifying a model name and revision in production is not recommended.\n"
     ]
    },
    {
     "data": {
      "application/vnd.jupyter.widget-view+json": {
       "model_id": "0a392ed5ef3f416985fe9e11f21fb5c9",
       "version_major": 2,
       "version_minor": 0
      },
      "text/plain": [
       "Downloading:   0%|          | 0.00/473 [00:00<?, ?B/s]"
      ]
     },
     "metadata": {},
     "output_type": "display_data"
    },
    {
     "name": "stderr",
     "output_type": "stream",
     "text": [
      "C:\\Users\\Kevin\\anaconda3\\lib\\site-packages\\huggingface_hub\\file_download.py:123: UserWarning: `huggingface_hub` cache-system uses symlinks by default to efficiently store duplicated files but your machine does not support them in C:\\Users\\Kevin\\.cache\\huggingface\\hub. Caching files will still work but in a degraded version that might require more space on your disk. This warning can be disabled by setting the `HF_HUB_DISABLE_SYMLINKS_WARNING` environment variable. For more details, see https://huggingface.co/docs/huggingface_hub/how-to-cache#limitations.\n",
      "To support symlinks on Windows, you either need to activate Developer Mode or to run Python as an administrator. In order to see activate developer mode, see this article: https://docs.microsoft.com/en-us/windows/apps/get-started/enable-your-device-for-development\n",
      "  warnings.warn(message)\n"
     ]
    },
    {
     "data": {
      "application/vnd.jupyter.widget-view+json": {
       "model_id": "2aac2626a01d4bfaac2bce2769393b7a",
       "version_major": 2,
       "version_minor": 0
      },
      "text/plain": [
       "Downloading:   0%|          | 0.00/261M [00:00<?, ?B/s]"
      ]
     },
     "metadata": {},
     "output_type": "display_data"
    },
    {
     "data": {
      "application/vnd.jupyter.widget-view+json": {
       "model_id": "bb6db980350a42cba5acad8b5183a617",
       "version_major": 2,
       "version_minor": 0
      },
      "text/plain": [
       "Downloading:   0%|          | 0.00/49.0 [00:00<?, ?B/s]"
      ]
     },
     "metadata": {},
     "output_type": "display_data"
    },
    {
     "data": {
      "application/vnd.jupyter.widget-view+json": {
       "model_id": "bc5975bcc7d74a4797747c34e71ceb9e",
       "version_major": 2,
       "version_minor": 0
      },
      "text/plain": [
       "Downloading:   0%|          | 0.00/213k [00:00<?, ?B/s]"
      ]
     },
     "metadata": {},
     "output_type": "display_data"
    },
    {
     "data": {
      "application/vnd.jupyter.widget-view+json": {
       "model_id": "b53df693bf944e339ef9e6864ec5412b",
       "version_major": 2,
       "version_minor": 0
      },
      "text/plain": [
       "Downloading:   0%|          | 0.00/436k [00:00<?, ?B/s]"
      ]
     },
     "metadata": {},
     "output_type": "display_data"
    }
   ],
   "source": [
    "import speech_recognition as sr\n",
    "import pyttsx3\n",
    "import datetime\n",
    "import webbrowser\n",
    "import os\n",
    "import requests\n",
    "from transformers import pipeline\n",
    "\n",
    "# Initialize the recognizer and TTS engine\n",
    "recognizer = sr.Recognizer()\n",
    "engine = pyttsx3.init()\n",
    "\n",
    "# Load pre-trained NLP model for better understanding\n",
    "nlp = pipeline(\"question-answering\")\n",
    "\n",
    "# Function to make the assistant speak\n",
    "def speak(text):\n",
    "    engine.say(text)\n",
    "    engine.runAndWait()\n",
    "\n",
    "# Function to recognize speech and convert it to text\n",
    "def listen():\n",
    "    with sr.Microphone() as source:\n",
    "        print(\"Listening...\")\n",
    "        audio = recognizer.listen(source)\n",
    "        try:\n",
    "            query = recognizer.recognize_google(audio, language='en-US')\n",
    "            print(f\"User said: {query}\\n\")\n",
    "        except Exception as e:\n",
    "            print(\"Sorry, I didn't catch that. Could you please repeat?\")\n",
    "            return None\n",
    "        return query.lower()\n",
    "\n",
    "# Function to get weather information\n",
    "def get_weather(city):\n",
    "    api_key = \"your_api_key\"  # Replace with your actual API key\n",
    "    base_url = f\"http://api.openweathermap.org/data/2.5/weather?q={city}&appid={api_key}\"\n",
    "    response = requests.get(base_url).json()\n",
    "    if response['cod'] == 200:\n",
    "        main = response['main']\n",
    "        weather_desc = response['weather'][0]['description']\n",
    "        temp = main['temp'] - 273.15  # Convert from Kelvin to Celsius\n",
    "        return f\"The weather in {city} is {weather_desc} with a temperature of {temp:.2f} degrees Celsius.\"\n",
    "    else:\n",
    "        return \"City not found.\"\n",
    "\n",
    "# Function to handle the command\n",
    "def handle_command(command):\n",
    "    if 'time' in command:\n",
    "        current_time = datetime.datetime.now().strftime('%I:%M %p')\n",
    "        speak(f\"The current time is {current_time}\")\n",
    "\n",
    "    elif 'open google' in command:\n",
    "        webbrowser.open('https://www.google.com')\n",
    "        speak(\"Google is open now\")\n",
    "\n",
    "    elif 'play music' in command:\n",
    "        music_dir = 'C:\\\\Path\\\\To\\\\Your\\\\Music\\\\Directory'\n",
    "        songs = os.listdir(music_dir)\n",
    "        os.startfile(os.path.join(music_dir, songs[0]))\n",
    "        speak(\"Playing music\")\n",
    "\n",
    "    elif 'weather' in command:\n",
    "        city = command.replace('weather in', '').strip()\n",
    "        weather_info = get_weather(city)\n",
    "        speak(weather_info)\n",
    "\n",
    "    elif 'schedule' in command:\n",
    "        # Extract the task and time from the command using NLP\n",
    "        task = nlp({\n",
    "            'question': 'What is the task?',\n",
    "            'context': command\n",
    "        })['answer']\n",
    "        time = nlp({\n",
    "            'question': 'What is the time?',\n",
    "            'context': command\n",
    "        })['answer']\n",
    "        speak(f\"Task '{task}' scheduled at {time}.\")\n",
    "        # Here, you can add code to actually schedule the task\n",
    "\n",
    "    elif 'exit' in command:\n",
    "        speak(\"Goodbye!\")\n",
    "        exit()\n",
    "\n",
    "    else:\n",
    "        speak(\"Sorry, I didn't understand that command.\")\n",
    "\n",
    "# Main function to run the assistant\n",
    "def jarvis():\n",
    "    speak(\"How can I assist you today?\")\n",
    "    while True:\n",
    "        command = listen()\n",
    "        if command:\n",
    "            handle_command(command)\n",
    "\n",
    "if __name__ == '__main__':\n",
    "    jarvis()\n"
   ]
  },
  {
   "cell_type": "code",
   "execution_count": null,
   "id": "9937a7c4",
   "metadata": {},
   "outputs": [],
   "source": []
  }
 ],
 "metadata": {
  "kernelspec": {
   "display_name": "Python 3 (ipykernel)",
   "language": "python",
   "name": "python3"
  },
  "language_info": {
   "codemirror_mode": {
    "name": "ipython",
    "version": 3
   },
   "file_extension": ".py",
   "mimetype": "text/x-python",
   "name": "python",
   "nbconvert_exporter": "python",
   "pygments_lexer": "ipython3",
   "version": "3.9.7"
  }
 },
 "nbformat": 4,
 "nbformat_minor": 5
}
